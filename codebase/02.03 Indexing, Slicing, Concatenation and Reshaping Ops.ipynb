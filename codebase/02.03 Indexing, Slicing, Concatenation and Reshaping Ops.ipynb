{
 "cells": [
  {
   "cell_type": "code",
   "execution_count": 1,
   "id": "c1913a37",
   "metadata": {},
   "outputs": [],
   "source": [
    "import torch\n",
    "import numpy as np"
   ]
  },
  {
   "cell_type": "markdown",
   "id": "f32723b4",
   "metadata": {},
   "source": [
    "## Indexing, Slicing"
   ]
  },
  {
   "cell_type": "code",
   "execution_count": 9,
   "id": "b5ca9cc3",
   "metadata": {},
   "outputs": [
    {
     "data": {
      "text/plain": [
       "tensor([[0.4662, 0.9302, 0.3527, 0.4858],\n",
       "        [0.4701, 0.0616, 0.0107, 0.8433],\n",
       "        [0.4257, 0.2782, 0.6458, 0.5032]])"
      ]
     },
     "execution_count": 9,
     "metadata": {},
     "output_type": "execute_result"
    }
   ],
   "source": [
    "x = torch.rand(size=(3,4))\n",
    "x"
   ]
  },
  {
   "cell_type": "markdown",
   "id": "777f7bf7",
   "metadata": {},
   "source": [
    "x[row, cols]\n",
    "\n",
    "row -> start:stop:step\n",
    "\n",
    "col -> start:stop:step        "
   ]
  },
  {
   "cell_type": "code",
   "execution_count": 10,
   "id": "16bc3400",
   "metadata": {},
   "outputs": [
    {
     "data": {
      "text/plain": [
       "tensor([0.4662, 0.9302, 0.3527, 0.4858])"
      ]
     },
     "execution_count": 10,
     "metadata": {},
     "output_type": "execute_result"
    }
   ],
   "source": [
    "x[0,:]"
   ]
  },
  {
   "cell_type": "code",
   "execution_count": 11,
   "id": "eea6a943",
   "metadata": {},
   "outputs": [
    {
     "data": {
      "text/plain": [
       "tensor([0.4662, 0.4701, 0.4257])"
      ]
     },
     "execution_count": 11,
     "metadata": {},
     "output_type": "execute_result"
    }
   ],
   "source": [
    "x[:,0]"
   ]
  },
  {
   "cell_type": "code",
   "execution_count": 14,
   "id": "5a9c221d",
   "metadata": {},
   "outputs": [
    {
     "data": {
      "text/plain": [
       "tensor([[0.4662, 0.9302, 0.3527],\n",
       "        [0.4701, 0.0616, 0.0107]])"
      ]
     },
     "execution_count": 14,
     "metadata": {},
     "output_type": "execute_result"
    }
   ],
   "source": [
    "x[0:2, 0:3]"
   ]
  },
  {
   "cell_type": "code",
   "execution_count": 15,
   "id": "76fbc871",
   "metadata": {},
   "outputs": [
    {
     "data": {
      "text/plain": [
       "tensor([[0.4662, 0.3527],\n",
       "        [0.4701, 0.0107]])"
      ]
     },
     "execution_count": 15,
     "metadata": {},
     "output_type": "execute_result"
    }
   ],
   "source": [
    "x[0:2, 0:3:2]"
   ]
  },
  {
   "cell_type": "code",
   "execution_count": 16,
   "id": "a13bc486",
   "metadata": {},
   "outputs": [
    {
     "data": {
      "text/plain": [
       "tensor(0.4662)"
      ]
     },
     "execution_count": 16,
     "metadata": {},
     "output_type": "execute_result"
    }
   ],
   "source": [
    "x[0,0]"
   ]
  },
  {
   "cell_type": "code",
   "execution_count": 19,
   "id": "06f1c7dd",
   "metadata": {},
   "outputs": [],
   "source": [
    "x[0,0] = 11"
   ]
  },
  {
   "cell_type": "code",
   "execution_count": 20,
   "id": "1d6c5fda",
   "metadata": {},
   "outputs": [
    {
     "data": {
      "text/plain": [
       "tensor([[1.1000e+01, 9.3021e-01, 3.5273e-01, 4.8576e-01],\n",
       "        [4.7009e-01, 6.1568e-02, 1.0703e-02, 8.4334e-01],\n",
       "        [4.2567e-01, 2.7815e-01, 6.4583e-01, 5.0318e-01]])"
      ]
     },
     "execution_count": 20,
     "metadata": {},
     "output_type": "execute_result"
    }
   ],
   "source": [
    "x"
   ]
  },
  {
   "cell_type": "code",
   "execution_count": 21,
   "id": "eac166e9",
   "metadata": {},
   "outputs": [],
   "source": [
    "x = torch.rand(size=(3,4))\n",
    "y = torch.rand(size=(3,4))\n"
   ]
  },
  {
   "cell_type": "markdown",
   "id": "f25062ff",
   "metadata": {},
   "source": [
    "## Concatination"
   ]
  },
  {
   "cell_type": "code",
   "execution_count": 22,
   "id": "f820c7ac",
   "metadata": {},
   "outputs": [
    {
     "data": {
      "text/plain": [
       "tensor([[0.8759, 0.6237, 0.0273, 0.6163, 0.4174, 0.9742, 0.8510, 0.7403],\n",
       "        [0.9567, 0.2370, 0.8376, 0.2125, 0.5866, 0.5525, 0.3482, 0.1966],\n",
       "        [0.1307, 0.5164, 0.8591, 0.0752, 0.0532, 0.3344, 0.0439, 0.7195]])"
      ]
     },
     "execution_count": 22,
     "metadata": {},
     "output_type": "execute_result"
    }
   ],
   "source": [
    "torch.cat((x, y), dim=1)"
   ]
  },
  {
   "cell_type": "code",
   "execution_count": 23,
   "id": "167773f4",
   "metadata": {},
   "outputs": [
    {
     "data": {
      "text/plain": [
       "tensor([[0.8759, 0.6237, 0.0273, 0.6163],\n",
       "        [0.9567, 0.2370, 0.8376, 0.2125],\n",
       "        [0.1307, 0.5164, 0.8591, 0.0752],\n",
       "        [0.4174, 0.9742, 0.8510, 0.7403],\n",
       "        [0.5866, 0.5525, 0.3482, 0.1966],\n",
       "        [0.0532, 0.3344, 0.0439, 0.7195]])"
      ]
     },
     "execution_count": 23,
     "metadata": {},
     "output_type": "execute_result"
    }
   ],
   "source": [
    "torch.cat((x, y), dim=0)"
   ]
  },
  {
   "cell_type": "code",
   "execution_count": 24,
   "id": "21234b0d",
   "metadata": {},
   "outputs": [
    {
     "data": {
      "text/plain": [
       "torch.Size([3, 4])"
      ]
     },
     "execution_count": 24,
     "metadata": {},
     "output_type": "execute_result"
    }
   ],
   "source": [
    "x.shape"
   ]
  },
  {
   "cell_type": "markdown",
   "id": "031a4225",
   "metadata": {},
   "source": [
    "## Reshaping"
   ]
  },
  {
   "cell_type": "code",
   "execution_count": 25,
   "id": "c5d1b634",
   "metadata": {},
   "outputs": [
    {
     "data": {
      "text/plain": [
       "tensor([[0.8759, 0.6237, 0.0273, 0.6163, 0.9567, 0.2370],\n",
       "        [0.8376, 0.2125, 0.1307, 0.5164, 0.8591, 0.0752]])"
      ]
     },
     "execution_count": 25,
     "metadata": {},
     "output_type": "execute_result"
    }
   ],
   "source": [
    "x.reshape(2,6)"
   ]
  },
  {
   "cell_type": "code",
   "execution_count": 26,
   "id": "eba402b9",
   "metadata": {},
   "outputs": [
    {
     "ename": "RuntimeError",
     "evalue": "shape '[2, 3]' is invalid for input of size 12",
     "output_type": "error",
     "traceback": [
      "\u001b[1;31m---------------------------------------------------------------------------\u001b[0m",
      "\u001b[1;31mRuntimeError\u001b[0m                              Traceback (most recent call last)",
      "\u001b[1;32m~\\AppData\\Local\\Temp\\ipykernel_17316\\2983344640.py\u001b[0m in \u001b[0;36m<module>\u001b[1;34m\u001b[0m\n\u001b[1;32m----> 1\u001b[1;33m \u001b[0mx\u001b[0m\u001b[1;33m.\u001b[0m\u001b[0mreshape\u001b[0m\u001b[1;33m(\u001b[0m\u001b[1;36m2\u001b[0m\u001b[1;33m,\u001b[0m\u001b[1;36m3\u001b[0m\u001b[1;33m)\u001b[0m\u001b[1;33m\u001b[0m\u001b[1;33m\u001b[0m\u001b[0m\n\u001b[0m",
      "\u001b[1;31mRuntimeError\u001b[0m: shape '[2, 3]' is invalid for input of size 12"
     ]
    }
   ],
   "source": [
    "x.reshape(2,3) # no. of elements should match"
   ]
  },
  {
   "cell_type": "code",
   "execution_count": 27,
   "id": "c5217cbe",
   "metadata": {},
   "outputs": [
    {
     "data": {
      "text/plain": [
       "tensor([[0.8759, 0.6237, 0.0273, 0.6163, 0.9567, 0.2370, 0.8376, 0.2125, 0.1307,\n",
       "         0.5164, 0.8591, 0.0752]])"
      ]
     },
     "execution_count": 27,
     "metadata": {},
     "output_type": "execute_result"
    }
   ],
   "source": [
    "x.reshape(1,12)"
   ]
  },
  {
   "cell_type": "code",
   "execution_count": 28,
   "id": "f31de262",
   "metadata": {},
   "outputs": [
    {
     "data": {
      "text/plain": [
       "tensor([[0.8759],\n",
       "        [0.6237],\n",
       "        [0.0273],\n",
       "        [0.6163],\n",
       "        [0.9567],\n",
       "        [0.2370],\n",
       "        [0.8376],\n",
       "        [0.2125],\n",
       "        [0.1307],\n",
       "        [0.5164],\n",
       "        [0.8591],\n",
       "        [0.0752]])"
      ]
     },
     "execution_count": 28,
     "metadata": {},
     "output_type": "execute_result"
    }
   ],
   "source": [
    "x.reshape(12,1)"
   ]
  },
  {
   "cell_type": "code",
   "execution_count": 31,
   "id": "03441687",
   "metadata": {},
   "outputs": [
    {
     "data": {
      "text/plain": [
       "torch.Size([3, 4])"
      ]
     },
     "execution_count": 31,
     "metadata": {},
     "output_type": "execute_result"
    }
   ],
   "source": [
    "x.shape"
   ]
  },
  {
   "cell_type": "code",
   "execution_count": 32,
   "id": "5a8dd9ab",
   "metadata": {},
   "outputs": [
    {
     "data": {
      "text/plain": [
       "tensor([0.8759, 0.6237, 0.0273, 0.6163, 0.9567, 0.2370, 0.8376, 0.2125, 0.1307,\n",
       "        0.5164, 0.8591, 0.0752])"
      ]
     },
     "execution_count": 32,
     "metadata": {},
     "output_type": "execute_result"
    }
   ],
   "source": [
    "x.view(-1) # Flattening"
   ]
  },
  {
   "cell_type": "code",
   "execution_count": 33,
   "id": "9ee987ea",
   "metadata": {},
   "outputs": [
    {
     "data": {
      "text/plain": [
       "torch.Size([12])"
      ]
     },
     "execution_count": 33,
     "metadata": {},
     "output_type": "execute_result"
    }
   ],
   "source": [
    "x.view(-1).shape # flattening a tensor"
   ]
  },
  {
   "cell_type": "code",
   "execution_count": 34,
   "id": "4ccccefe",
   "metadata": {},
   "outputs": [
    {
     "data": {
      "text/plain": [
       "tensor([[0.5898, 0.8485, 0.6827, 0.4938, 0.5183, 0.9858, 0.5632, 0.4546, 0.6970,\n",
       "         0.9603],\n",
       "        [0.0669, 0.4628, 0.9424, 0.0092, 0.0878, 0.9861, 0.9675, 0.8619, 0.2528,\n",
       "         0.1191],\n",
       "        [0.6260, 0.0551, 0.4902, 0.4019, 0.2533, 0.5351, 0.0208, 0.0644, 0.4734,\n",
       "         0.1473],\n",
       "        [0.5578, 0.7696, 0.9104, 0.2832, 0.4618, 0.6799, 0.0138, 0.6154, 0.2280,\n",
       "         0.6078],\n",
       "        [0.4576, 0.9747, 0.4234, 0.8570, 0.5523, 0.9100, 0.3069, 0.8513, 0.7162,\n",
       "         0.6048],\n",
       "        [0.6103, 0.4901, 0.7255, 0.4219, 0.4437, 0.9195, 0.0497, 0.0241, 0.9140,\n",
       "         0.4657],\n",
       "        [0.1688, 0.0681, 0.9507, 0.0024, 0.7920, 0.7637, 0.1157, 0.6318, 0.4604,\n",
       "         0.1113],\n",
       "        [0.9648, 0.4391, 0.2547, 0.3421, 0.2013, 0.1122, 0.9653, 0.2397, 0.7509,\n",
       "         0.2061],\n",
       "        [0.2421, 0.7438, 0.0903, 0.2956, 0.1293, 0.6893, 0.8242, 0.3162, 0.8461,\n",
       "         0.1161],\n",
       "        [0.3650, 0.5304, 0.2917, 0.3597, 0.2389, 0.0235, 0.7417, 0.5334, 0.4782,\n",
       "         0.8095],\n",
       "        [0.4757, 0.8335, 0.0165, 0.4111, 0.8916, 0.5094, 0.3302, 0.0553, 0.0875,\n",
       "         0.4874],\n",
       "        [0.5583, 0.1159, 0.2653, 0.1260, 0.3124, 0.9583, 0.0977, 0.3883, 0.6024,\n",
       "         0.3513],\n",
       "        [0.2737, 0.8206, 0.8189, 0.1035, 0.6452, 0.4267, 0.7023, 0.5829, 0.1668,\n",
       "         0.5769],\n",
       "        [0.3219, 0.7873, 0.1554, 0.4559, 0.4183, 0.5106, 0.8702, 0.8929, 0.7462,\n",
       "         0.6766],\n",
       "        [0.6762, 0.3115, 0.6406, 0.0345, 0.5024, 0.5300, 0.1036, 0.5054, 0.7688,\n",
       "         0.6348],\n",
       "        [0.4287, 0.6326, 0.5973, 0.7432, 0.5106, 0.8773, 0.8123, 0.1154, 0.7038,\n",
       "         0.1973]])"
      ]
     },
     "execution_count": 34,
     "metadata": {},
     "output_type": "execute_result"
    }
   ],
   "source": [
    "# batch flattening ops\n",
    "batch = 16\n",
    "\n",
    "torch.rand((batch, 2,5)).view((batch, -1))"
   ]
  },
  {
   "cell_type": "code",
   "execution_count": null,
   "id": "4ca5e840",
   "metadata": {},
   "outputs": [],
   "source": []
  }
 ],
 "metadata": {
  "kernelspec": {
   "display_name": "Python 3 (ipykernel)",
   "language": "python",
   "name": "python3"
  },
  "language_info": {
   "codemirror_mode": {
    "name": "ipython",
    "version": 3
   },
   "file_extension": ".py",
   "mimetype": "text/x-python",
   "name": "python",
   "nbconvert_exporter": "python",
   "pygments_lexer": "ipython3",
   "version": "3.7.11"
  }
 },
 "nbformat": 4,
 "nbformat_minor": 5
}
